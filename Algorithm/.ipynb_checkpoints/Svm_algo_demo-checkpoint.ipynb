{
 "cells": [
  {
   "cell_type": "code",
   "execution_count": 8,
   "metadata": {},
   "outputs": [
    {
     "ename": "AttributeError",
     "evalue": "module 'matplotlib.pyplot' has no attribute 'line'",
     "output_type": "error",
     "traceback": [
      "\u001b[0;31m---------------------------------------------------------------------------\u001b[0m",
      "\u001b[0;31mAttributeError\u001b[0m                            Traceback (most recent call last)",
      "\u001b[0;32m<ipython-input-8-565ecb74a169>\u001b[0m in \u001b[0;36m<module>\u001b[0;34m\u001b[0m\n\u001b[1;32m     32\u001b[0m \u001b[0;31m# versicolor_x.plt(kind=line,color=green,y=versicolor_x,ax=ax)\u001b[0m\u001b[0;34m\u001b[0m\u001b[0;34m\u001b[0m\u001b[0;34m\u001b[0m\u001b[0m\n\u001b[1;32m     33\u001b[0m \u001b[0;31m# plt.show()\u001b[0m\u001b[0;34m\u001b[0m\u001b[0;34m\u001b[0m\u001b[0;34m\u001b[0m\u001b[0m\n\u001b[0;32m---> 34\u001b[0;31m \u001b[0mplt\u001b[0m\u001b[0;34m.\u001b[0m\u001b[0mline\u001b[0m\u001b[0;34m(\u001b[0m\u001b[0msetosa_x\u001b[0m\u001b[0;34m,\u001b[0m\u001b[0msetosa_y\u001b[0m\u001b[0;34m,\u001b[0m\u001b[0mmarker\u001b[0m\u001b[0;34m=\u001b[0m\u001b[0;34m'+'\u001b[0m\u001b[0;34m,\u001b[0m\u001b[0mcolor\u001b[0m\u001b[0;34m=\u001b[0m\u001b[0;34m'green'\u001b[0m\u001b[0;34m)\u001b[0m\u001b[0;34m\u001b[0m\u001b[0;34m\u001b[0m\u001b[0m\n\u001b[0m\u001b[1;32m     35\u001b[0m \u001b[0mplt\u001b[0m\u001b[0;34m.\u001b[0m\u001b[0mline\u001b[0m\u001b[0;34m(\u001b[0m\u001b[0mversicolor_x\u001b[0m\u001b[0;34m,\u001b[0m\u001b[0mversicolor_y\u001b[0m\u001b[0;34m,\u001b[0m\u001b[0mmarker\u001b[0m\u001b[0;34m=\u001b[0m\u001b[0;34m'_'\u001b[0m\u001b[0;34m,\u001b[0m\u001b[0mcolor\u001b[0m\u001b[0;34m=\u001b[0m\u001b[0;34m'red'\u001b[0m\u001b[0;34m)\u001b[0m\u001b[0;34m\u001b[0m\u001b[0;34m\u001b[0m\u001b[0m\n\u001b[1;32m     36\u001b[0m \u001b[0mplt\u001b[0m\u001b[0;34m.\u001b[0m\u001b[0mshow\u001b[0m\u001b[0;34m(\u001b[0m\u001b[0;34m)\u001b[0m\u001b[0;34m\u001b[0m\u001b[0;34m\u001b[0m\u001b[0m\n",
      "\u001b[0;31mAttributeError\u001b[0m: module 'matplotlib.pyplot' has no attribute 'line'"
     ]
    },
    {
     "data": {
      "text/plain": [
       "<Figure size 576x432 with 0 Axes>"
      ]
     },
     "metadata": {},
     "output_type": "display_data"
    }
   ],
   "source": [
    "\n",
    "import pandas as pd\n",
    "\n",
    "df = pd.read_csv('dataset/Iris.csv')\n",
    "df = df.drop(['Id'],axis=1)\n",
    "target = df['Species']\n",
    "#print(df)\n",
    "s = set()\n",
    "for val in target:\n",
    "#     print(val)\n",
    "    s.add(val)\n",
    "s = list(s)\n",
    "# print(s)\n",
    "rows = list(range(100,150))\n",
    "# print(rows)\n",
    "df = df.drop(df.index[rows])\n",
    "\n",
    "\n",
    "import matplotlib.pyplot as plt\n",
    "\n",
    "x = df['SepalLengthCm']\n",
    "y = df['PetalLengthCm']\n",
    "\n",
    "setosa_x = x[:50]\n",
    "setosa_y = y[:50]\n",
    "\n",
    "versicolor_x = x[50:]\n",
    "versicolor_y = y[50:]\n",
    "\n",
    "plt.figure(figsize=(8,6))\n",
    "# setosa_y.plt(kind=line,color=red,x=setosa_y,ax=ax)\n",
    "# versicolor_x.plt(kind=line,color=green,y=versicolor_x,ax=ax)\n",
    "# plt.show()\n",
    "plt.scatter(setosa_x,setosa_y,marker='+',color='green')\n",
    "plt.scatter(versicolor_x,versicolor_y,marker='_',color='red')\n",
    "plt.show()\n",
    "\n",
    "import sklearn \n",
    "from sklearn.utils import shuffle\n",
    "from sklearn.model_selection import train_test_split\n",
    "import numpy as np\n",
    "## Drop rest of the features and extract the target values\n",
    "df = df.drop(['SepalWidthCm','PetalWidthCm'],axis=1)\n",
    "Y = []\n",
    "target = df['Species']\n",
    "for val in target:\n",
    "    if(val == 'Iris-setosa'):\n",
    "        Y.append(-1)\n",
    "    else:\n",
    "        Y.append(1)\n",
    "df = df.drop(['Species'],axis=1)\n",
    "X = df.values.tolist()\n",
    "## Shuffle and split the data into training and test set\n",
    "X, Y = shuffle(X,Y)\n",
    "x_train = []\n",
    "y_train = []\n",
    "x_test = []\n",
    "y_test = []\n",
    "\n",
    "x_train, x_test, y_train, y_test = train_test_split(X, Y, train_size=0.9)\n",
    "\n",
    "x_train = np.array(x_train)\n",
    "y_train = np.array(y_train)\n",
    "x_test = np.array(x_test)\n",
    "y_test = np.array(y_test)\n",
    "\n",
    "y_train = y_train.reshape(90,1)\n",
    "y_test = y_test.reshape(10,1)\n"
   ]
  }
 ],
 "metadata": {
  "kernelspec": {
   "display_name": "Python 3",
   "language": "python",
   "name": "python3"
  },
  "language_info": {
   "codemirror_mode": {
    "name": "ipython",
    "version": 3
   },
   "file_extension": ".py",
   "mimetype": "text/x-python",
   "name": "python",
   "nbconvert_exporter": "python",
   "pygments_lexer": "ipython3",
   "version": "3.7.1"
  }
 },
 "nbformat": 4,
 "nbformat_minor": 2
}
