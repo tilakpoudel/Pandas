{
 "cells": [
  {
   "cell_type": "code",
   "execution_count": 11,
   "metadata": {},
   "outputs": [
    {
     "name": "stdout",
     "output_type": "stream",
     "text": [
      "this i\n",
      "this is t\n",
      "he test of python\n",
      "n\n"
     ]
    }
   ],
   "source": [
    "x='this is the test of python'\n",
    "print (x[0:6])\n",
    "print(x[:9])\n",
    "print(x[9:])\n",
    "print(x[-1])"
   ]
  },
  {
   "cell_type": "code",
   "execution_count": 31,
   "metadata": {
    "scrolled": true
   },
   "outputs": [
    {
     "name": "stdout",
     "output_type": "stream",
     "text": [
      "1554971843.2736642\n",
      "2019-04-11 14:22:23.276005\n"
     ]
    },
    {
     "data": {
      "text/plain": [
       "(2019, 4, 14, 22, 23)"
      ]
     },
     "execution_count": 31,
     "metadata": {},
     "output_type": "execute_result"
    }
   ],
   "source": [
    "#python date and time function\n",
    "import datetime as d\n",
    "import time as t\n",
    "print(t.time())\n",
    "\n",
    "dtnow = d.datetime.fromtimestamp(t.time())\n",
    "print(dtnow)\n",
    "\n",
    "dtnow.year,dtnow.month,dtnow.hour,dtnow.minute,dtnow.second"
   ]
  },
  {
   "cell_type": "code",
   "execution_count": 53,
   "metadata": {},
   "outputs": [
    {
     "data": {
      "text/plain": [
       "array([[14, 15],\n",
       "       [20, 21]])"
      ]
     },
     "execution_count": 53,
     "metadata": {},
     "output_type": "execute_result"
    }
   ],
   "source": [
    "import numpy as np \n",
    "a = np.array([[0,1,2,3,4,5],[6,7,8,9,10,11],[12,13,14,15,16,17],[18,19,20,21,22,23],[24,25,26,27,28,29],[30,31,32,33,34,35]])\n",
    "a.reshape(36)[::7]#gives the diagonal elements\n",
    "a[2:4,2:4]"
   ]
  }
 ],
 "metadata": {
  "kernelspec": {
   "display_name": "Python 3",
   "language": "python",
   "name": "python3"
  },
  "language_info": {
   "codemirror_mode": {
    "name": "ipython",
    "version": 3
   },
   "file_extension": ".py",
   "mimetype": "text/x-python",
   "name": "python",
   "nbconvert_exporter": "python",
   "pygments_lexer": "ipython3",
   "version": "3.7.1"
  }
 },
 "nbformat": 4,
 "nbformat_minor": 2
}
