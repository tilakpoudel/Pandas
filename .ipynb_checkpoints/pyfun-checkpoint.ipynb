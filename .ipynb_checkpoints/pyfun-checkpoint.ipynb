{
 "cells": [
  {
   "cell_type": "code",
   "execution_count": 2,
   "metadata": {},
   "outputs": [
    {
     "data": {
      "text/plain": [
       "3"
      ]
     },
     "execution_count": 2,
     "metadata": {},
     "output_type": "execute_result"
    }
   ],
   "source": [
    "x= 1\n",
    "y= 2\n",
    "z=3\n",
    "x+y\n",
    "        "
   ]
  },
  {
   "cell_type": "code",
   "execution_count": 8,
   "metadata": {},
   "outputs": [
    {
     "data": {
      "text/plain": [
       "12"
      ]
     },
     "execution_count": 8,
     "metadata": {},
     "output_type": "execute_result"
    }
   ],
   "source": [
    "def add_num (x,y,z):\n",
    "    return x+y+z\n",
    "ans =add_num(3,5,4);\n",
    "ans\n"
   ]
  },
  {
   "cell_type": "code",
   "execution_count": 13,
   "metadata": {},
   "outputs": [
    {
     "name": "stdout",
     "output_type": "stream",
     "text": [
      "sum is 3\n",
      "sum is 12\n"
     ]
    }
   ],
   "source": [
    "def add_num (a,b,c= None):\n",
    "    if(c==None):\n",
    "        return a+b\n",
    "    else:\n",
    "        return a+b+c\n",
    "print(\"sum is %s\"%add_num(1,2))\n",
    "print(\"sum is %s\"%add_num(5,4,3))"
   ]
  },
  {
   "cell_type": "code",
   "execution_count": 18,
   "metadata": {},
   "outputs": [
    {
     "name": "stdout",
     "output_type": "stream",
     "text": [
      "-19\n",
      "11\n"
     ]
    }
   ],
   "source": [
    "def do_math(a,b,kind=None):\n",
    "    if(kind =='add'):\n",
    "        return a+b\n",
    "    else:\n",
    "        return a-b\n",
    "    \n",
    "print(do_math(1,20))\n",
    "print(do_math(5,6,'add'))"
   ]
  }
 ],
 "metadata": {
  "kernelspec": {
   "display_name": "Python 3",
   "language": "python",
   "name": "python3"
  },
  "language_info": {
   "codemirror_mode": {
    "name": "ipython",
    "version": 3
   },
   "file_extension": ".py",
   "mimetype": "text/x-python",
   "name": "python",
   "nbconvert_exporter": "python",
   "pygments_lexer": "ipython3",
   "version": "3.7.1"
  }
 },
 "nbformat": 4,
 "nbformat_minor": 2
}
