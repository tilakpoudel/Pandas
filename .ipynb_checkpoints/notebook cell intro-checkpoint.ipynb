{
 "cells": [
  {
   "cell_type": "markdown",
   "metadata": {},
   "source": [
    "# Short cut information about the cells in notebook \n",
    "\n",
    "1.cell typeie. markdown (doesnot perform operation ie. content written in this cell is rendered as usual) and code(performs operation)\n",
    "2.press esc to switch to the mode of cell ;ie markdown to python code mode = y\n",
    "and code to markdown mode = m\n",
    "\n",
    "## cell execution\n",
    "\n",
    "3.ctrl + enter = execute cell and remain in the same cell \n",
    "4.shift+enter = execute cell and move to the next cell\n",
    "# shortcut in command mode\n",
    "1.cell color green = edit mode \n",
    "2.cell color blue = command mode\n",
    "3.h = shortcut help \n",
    "4.b = create new cell below\n",
    "5.a = add cell above\n",
    "6.x=cut cell ,if not pasted will be deleted\n",
    "7.shift+tab shows the definition of the given method\n",
    "\n",
    "# python basic \n",
    "1 list (array):\n",
    "    roll_no =[1,2,3,4,5,6]\n",
    "    names= [\"tilak\",\"poudel\"]\n",
    "    \n",
    "2 dictionary(hash/hashmap)\n",
    "    uses {}\n",
    "    eg menu ={\n",
    "        'momo':120,\n",
    "        'pizza':250,\n",
    "        'choumin':80\n",
    "    }\n",
    "    menu['momo']\n",
    "    \n",
    "    \n",
    "\n",
    "\n",
    "\n"
   ]
  },
  {
   "cell_type": "code",
   "execution_count": 1,
   "metadata": {},
   "outputs": [
    {
     "data": {
      "text/plain": [
       "'0.23.4'"
      ]
     },
     "execution_count": 1,
     "metadata": {},
     "output_type": "execute_result"
    }
   ],
   "source": [
    "# import libraries\n",
    "import pandas as pd \n",
    "import numpy as np \n",
    "import matplotlib.pyplot as plt\n",
    "%matplotlib inline #show the graph inline in the notebook \n",
    "\n",
    "pd.__version__\n",
    "\n"
   ]
  },
  {
   "cell_type": "code",
   "execution_count": null,
   "metadata": {},
   "outputs": [],
   "source": []
  },
  {
   "cell_type": "code",
   "execution_count": null,
   "metadata": {},
   "outputs": [],
   "source": []
  }
 ],
 "metadata": {
  "kernelspec": {
   "display_name": "Python 3",
   "language": "python",
   "name": "python3"
  },
  "language_info": {
   "codemirror_mode": {
    "name": "ipython",
    "version": 3
   },
   "file_extension": ".py",
   "mimetype": "text/x-python",
   "name": "python",
   "nbconvert_exporter": "python",
   "pygments_lexer": "ipython3",
   "version": "3.7.1"
  }
 },
 "nbformat": 4,
 "nbformat_minor": 2
}
