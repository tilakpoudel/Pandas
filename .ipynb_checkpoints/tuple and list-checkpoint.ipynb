{
 "cells": [
  {
   "cell_type": "code",
   "execution_count": 11,
   "metadata": {},
   "outputs": [
    {
     "name": "stdout",
     "output_type": "stream",
     "text": [
      "this i\n",
      "this is t\n",
      "he test of python\n",
      "n\n"
     ]
    }
   ],
   "source": [
    "x='this is the test of python'\n",
    "print (x[0:6])\n",
    "print(x[:9])\n",
    "print(x[9:])\n",
    "print(x[-1])"
   ]
  },
  {
   "cell_type": "code",
   "execution_count": 30,
   "metadata": {
    "scrolled": true
   },
   "outputs": [
    {
     "name": "stdout",
     "output_type": "stream",
     "text": [
      "1554969947.5992115\n",
      "2019-04-11 13:50:47.600341\n"
     ]
    },
    {
     "data": {
      "text/plain": [
       "(2019, 4, 13, 50, 47)"
      ]
     },
     "execution_count": 30,
     "metadata": {},
     "output_type": "execute_result"
    }
   ],
   "source": [
    "#python date and time function\n",
    "import datetime as d\n",
    "import time as t\n",
    "print(t.time())\n",
    "\n",
    "dtnow = d.datetime.fromtimestamp(t.time())\n",
    "print(dtnow)\n",
    "\n",
    "dtnow.year,dtnow.month,dtnow.hour,dtnow.minute,dtnow.second"
   ]
  }
 ],
 "metadata": {
  "kernelspec": {
   "display_name": "Python 3",
   "language": "python",
   "name": "python3"
  },
  "language_info": {
   "codemirror_mode": {
    "name": "ipython",
    "version": 3
   },
   "file_extension": ".py",
   "mimetype": "text/x-python",
   "name": "python",
   "nbconvert_exporter": "python",
   "pygments_lexer": "ipython3",
   "version": "3.7.1"
  }
 },
 "nbformat": 4,
 "nbformat_minor": 2
}
